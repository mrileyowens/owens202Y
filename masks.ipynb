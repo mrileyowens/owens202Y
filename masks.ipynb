{
 "cells": [
  {
   "cell_type": "code",
   "execution_count": 7,
   "id": "7bfcf967",
   "metadata": {},
   "outputs": [],
   "source": [
    "# This file makes masks of the MagE slit projections\n",
    "# matching the WCS of the F275W, F814W observations \n",
    "# of the Sunburst Arc (HST PIDs 15101, 15949)"
   ]
  },
  {
   "cell_type": "code",
   "execution_count": 8,
   "id": "bb33997a",
   "metadata": {},
   "outputs": [],
   "source": [
    "import os\n",
    "import glob\n",
    "\n",
    "import numpy as np\n",
    "\n",
    "from astropy.io import fits\n",
    "\n",
    "from astropy import wcs\n",
    "from regions import Regions\n",
    "from reproject import reproject_interp\n",
    "\n",
    "import matplotlib.pyplot as plt"
   ]
  },
  {
   "cell_type": "code",
   "execution_count": 9,
   "id": "c54c5bae",
   "metadata": {},
   "outputs": [],
   "source": [
    "home = os.getcwd()\n",
    "\n",
    "data = home + '/data'\n",
    "figs = home + '/figs'\n",
    "\n",
    "file = data + '/hst/V4.0_PSZ1G311.65-18.48_F275W_0.03g0.8_cr2.5_0.7_drc_sci.fits'\n",
    "arcMask = data + '/psz1550_1909_v2_mask.fits'\n",
    "\n",
    "regions = Regions.read(home + '/Region Images/master_mage_slits_OBSERVED_V2redux.reg', format='ds9')"
   ]
  },
  {
   "cell_type": "code",
   "execution_count": 4,
   "id": "d719b6fa",
   "metadata": {},
   "outputs": [],
   "source": [
    "names = np.array(['M5', 'M4', 'M6', 'M3', 'M0', 'M2', 'M7', 'M8', 'M9'])\n",
    "\n",
    "for i, region in enumerate(regions):\n",
    "        \n",
    "    hdr = fits.getheader(file)\n",
    "    w = wcs.WCS(hdr)\n",
    "\n",
    "    pxlReg = region.to_pixel(w)\n",
    "    mask = pxlReg.to_mask().to_image((hdr['NAXIS2'], hdr['NAXIS1']))\n",
    "\n",
    "    fits.writeto(data + '/hst/masks/' + names[i] + 'mask.fits', mask.data, header=hdr, overwrite=True)"
   ]
  },
  {
   "cell_type": "code",
   "execution_count": 12,
   "id": "7a05feb9",
   "metadata": {},
   "outputs": [
    {
     "name": "stdout",
     "output_type": "stream",
     "text": [
      "(6461, 6861)\n"
     ]
    }
   ],
   "source": [
    "mask = fits.open(arcMask)[0].data\n",
    "hdrIn = fits.getheader(home + '/Region Images/PSZ311_CUBE_wcscorr_1500A.fits')\n",
    "wIn = wcs.WCS(hdrIn)\n",
    "hdrOut = fits.getheader(file)\n",
    "wOut = wcs.WCS(hdrOut)\n",
    "\n",
    "arcMaskHST, _ = reproject_interp((mask, wIn), hdrOut)\n",
    "\n",
    "arcMaskHST = np.where(arcMaskHST > 0.0, 1.0, 0.0)\n",
    "\n",
    "fits.writeto(data + '/hst/masks/arcMask.fits', arcMaskHST, header=hdrOut, overwrite=True)"
   ]
  }
 ],
 "metadata": {
  "kernelspec": {
   "display_name": "Python 3 (ipykernel)",
   "language": "python",
   "name": "python3"
  },
  "language_info": {
   "codemirror_mode": {
    "name": "ipython",
    "version": 3
   },
   "file_extension": ".py",
   "mimetype": "text/x-python",
   "name": "python",
   "nbconvert_exporter": "python",
   "pygments_lexer": "ipython3",
   "version": "3.9.5"
  }
 },
 "nbformat": 4,
 "nbformat_minor": 5
}
