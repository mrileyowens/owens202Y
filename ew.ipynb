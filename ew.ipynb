{
 "cells": [
  {
   "cell_type": "code",
   "execution_count": 1,
   "id": "435559dc",
   "metadata": {},
   "outputs": [],
   "source": [
    "# Author: Riley Owens (GitHub: mrileyowens)\n",
    "\n",
    "# This program computes the equivalent width\n",
    "# of a Lyα profile."
   ]
  },
  {
   "cell_type": "code",
   "execution_count": 2,
   "id": "943f9c0b",
   "metadata": {},
   "outputs": [],
   "source": [
    "import sys\n",
    "\n",
    "import numpy as np\n",
    "#np.set_printoptions(threshold=sys.maxsize)\n",
    "\n",
    "import pandas as pd\n",
    "\n",
    "import matplotlib.pyplot as plt\n",
    "plt.rcParams['figure.dpi']=100\n",
    "plt.rcParams['lines.linewidth']=0.5\n",
    "\n",
    "from scipy.optimize import curve_fit\n",
    "\n",
    "from lmfit.models import SkewedGaussianModel"
   ]
  },
  {
   "cell_type": "code",
   "execution_count": 3,
   "id": "cdf147a3",
   "metadata": {},
   "outputs": [],
   "source": [
    "def lin_interp(x, y, i, cont):\n",
    "    return x[i] + (x[i+1] - x[i]) * ((cont - y[i]) / (y[i+1] - y[i]))\n",
    "\n",
    "def bounds(x,y,cont,w):\n",
    "    \n",
    "    signs = np.sign(np.add(y, -cont))\n",
    "    zero_crossings = (signs[0:-2] != signs[1:-1])\n",
    "    zero_crossings_i = np.where(zero_crossings)[0]\n",
    "    wZeros=np.take(x,zero_crossings_i)\n",
    "    b1=wZeros[wZeros <= w][-1]\n",
    "    b2=wZeros[wZeros >= w][0]\n",
    "    \n",
    "    return [lin_interp(x, y, zero_crossings_i[0], cont),\n",
    "            lin_interp(x, y, zero_crossings_i[1], cont)],b1,b2\n",
    "\n",
    "def cont(wArr,fArr,Min,Max):\n",
    "    \n",
    "    fArr=fArr[wArr > Min]\n",
    "    wArr=wArr[wArr > Min]\n",
    "    fArr=fArr[wArr < Max]\n",
    "    wArr=wArr[wArr < Max]\n",
    "    \n",
    "    cont=np.mean(fArr)\n",
    "    \n",
    "    return cont\n",
    "    \n",
    "def ew(wArr,fArr,Min,Max,cont):\n",
    "    \n",
    "    fArr=fArr[wArr > Min]\n",
    "    wArr=wArr[wArr > Min]\n",
    "    fArr=fArr[wArr < Max]\n",
    "    wArr=wArr[wArr < Max]\n",
    "    \n",
    "    ew=abs(np.trapz(1.0-np.divide(fArr,cont),wArr))\n",
    "    \n",
    "    return ew"
   ]
  },
  {
   "cell_type": "code",
   "execution_count": 4,
   "id": "fc7e030f",
   "metadata": {},
   "outputs": [],
   "source": [
    "# Establishing directories and filepaths\n",
    "home='C://Users/15136/OneDrive - University of Cincinnati/Documents/Research/sunburstarc'\n",
    "data=home+'/data/spectra/mage'\n",
    "figs=home+'/figs'\n",
    "\n",
    "spectra=data+'/planckarc_pos1-comb1_MWdr.txt'"
   ]
  },
  {
   "cell_type": "code",
   "execution_count": 5,
   "id": "2d004a5c",
   "metadata": {},
   "outputs": [],
   "source": [
    "# Computing Lyα wavelength in the moving-frame\n",
    "redshift=2.37067\n",
    "w=1215.67*(redshift+1)"
   ]
  },
  {
   "cell_type": "code",
   "execution_count": 6,
   "id": "0f35ffe9",
   "metadata": {},
   "outputs": [],
   "source": [
    "# Setting plot labels\n",
    "title='Slit 1'\n",
    "wlabel='Wavelength (Å)'\n",
    "ylabel='Flux (10$^{-27}$ erg s$^{-1}$ cm$^{-2}$ Hz$^{-1}$)'"
   ]
  },
  {
   "cell_type": "code",
   "execution_count": 7,
   "id": "41d95fbe",
   "metadata": {},
   "outputs": [],
   "source": [
    "#Converting .txt file into a data frame\n",
    "dataFrame=pd.read_csv(spectra,delimiter='\\t',header=0,skiprows=13)\n",
    "\n",
    "#Discarding missing data\n",
    "dataFrame=dataFrame.apply(pd.to_numeric,errors='coerce').dropna()\n",
    "\n",
    "#Discarding extreme outliers\n",
    "dataFrame=dataFrame[dataFrame.iloc[:,1]<1e-20]\n",
    "\n",
    "#Resetting the index\n",
    "dataFrame=dataFrame.reset_index(drop=True)\n",
    "\n",
    "# Extracting wavelength, flux, and noise\n",
    "wArr=dataFrame.iloc[:,0].to_numpy()\n",
    "fArr=dataFrame.iloc[:,1].to_numpy()\n",
    "nArr=dataFrame.iloc[:,2].to_numpy()"
   ]
  },
  {
   "cell_type": "code",
   "execution_count": 8,
   "id": "8fbb852c",
   "metadata": {},
   "outputs": [
    {
     "data": {
      "text/plain": [
       "Text(0, 0.5, 'Flux (10$^{-27}$ erg s$^{-1}$ cm$^{-2}$ Hz$^{-1}$)')"
      ]
     },
     "execution_count": 8,
     "metadata": {},
     "output_type": "execute_result"
    },
    {
     "data": {
      "image/png": "[encoded data removed]",
      "text/plain": [
       "<Figure size 600x400 with 1 Axes>"
      ]
     },
     "metadata": {
      "needs_background": "light"
     },
     "output_type": "display_data"
    }
   ],
   "source": [
    "# Plotting moving-frame spectrum\n",
    "plt.close('all')\n",
    "fig,ax=plt.subplots(1,1)\n",
    "\n",
    "plt.plot(wArr,fArr*1e27,color='black',drawstyle='steps-mid')\n",
    "ax.set_xlim(w-20.0,w+20.0)\n",
    "ax.set_ylim(0.0)\n",
    "plt.title(title)\n",
    "ax.set_xlabel(wlabel)\n",
    "ax.set_ylabel(ylabel)"
   ]
  },
  {
   "cell_type": "code",
   "execution_count": 9,
   "id": "12f7a82e",
   "metadata": {},
   "outputs": [],
   "source": [
    "# Computing the nearby continuum level\n",
    "cont=cont(wArr,fArr*1e27,4081.0,4086.0)"
   ]
  },
  {
   "cell_type": "code",
   "execution_count": 10,
   "id": "198e526b",
   "metadata": {},
   "outputs": [
    {
     "data": {
      "text/plain": [
       "<matplotlib.lines.Line2D at 0x16bfd1d2dc8>"
      ]
     },
     "execution_count": 10,
     "metadata": {},
     "output_type": "execute_result"
    },
    {
     "data": {
      "image/png": "[encoded data removed]",
      "text/plain": [
       "<Figure size 600x400 with 1 Axes>"
      ]
     },
     "metadata": {
      "needs_background": "light"
     },
     "output_type": "display_data"
    }
   ],
   "source": [
    "# Plotting the Lyα profile with the continuum fit\n",
    "plt.close('all')\n",
    "fig,ax=plt.subplots(1,1)\n",
    "\n",
    "plt.plot(wArr,fArr*1e27,color='black',drawstyle='steps-mid')\n",
    "ax.set_xlim(w-20.0,w+20.0)\n",
    "ax.set_ylim(0.0)\n",
    "plt.title(title)\n",
    "ax.set_xlabel(wlabel)\n",
    "ax.set_ylabel(ylabel)\n",
    "ax.axhline(cont)"
   ]
  },
  {
   "cell_type": "code",
   "execution_count": 11,
   "id": "9c23490f",
   "metadata": {},
   "outputs": [],
   "source": [
    "# Computing the EW integration bounds\n",
    "d,b1,b2=bounds(wArr,fArr*1e27,cont,w)"
   ]
  },
  {
   "cell_type": "code",
   "execution_count": 12,
   "id": "2c264207",
   "metadata": {},
   "outputs": [
    {
     "data": {
      "text/plain": [
       "<matplotlib.lines.Line2D at 0x16bfd386148>"
      ]
     },
     "execution_count": 12,
     "metadata": {},
     "output_type": "execute_result"
    },
    {
     "data": {
      "image/png": "[encoded data removed]",
      "text/plain": [
       "<Figure size 600x400 with 1 Axes>"
      ]
     },
     "metadata": {
      "needs_background": "light"
     },
     "output_type": "display_data"
    }
   ],
   "source": [
    "# Plotting the Lyα profile with the continuum fit on the \n",
    "# derived integration bounds\n",
    "plt.close('all')\n",
    "fig,ax=plt.subplots(1,1)\n",
    "\n",
    "plt.plot(wArr,fArr*1e27,color='black',drawstyle='steps-mid')\n",
    "ax.set_xlim(b1,b2)\n",
    "ax.set_ylim(0.0)\n",
    "plt.title(title)\n",
    "ax.set_xlabel(wlabel)\n",
    "ax.set_ylabel(ylabel)\n",
    "ax.axhline(cont)"
   ]
  },
  {
   "cell_type": "code",
   "execution_count": 13,
   "id": "e8586fa8",
   "metadata": {},
   "outputs": [
    {
     "name": "stdout",
     "output_type": "stream",
     "text": [
      "93.58568605607879\n"
     ]
    }
   ],
   "source": [
    "# Computing the EW\n",
    "ew=ew(wArr,fArr*1e27,b1,b2,cont)\n",
    "print(ew)"
   ]
  },
  {
   "cell_type": "code",
   "execution_count": null,
   "id": "692ac730",
   "metadata": {},
   "outputs": [],
   "source": []
  }
 ],
 "metadata": {
  "kernelspec": {
   "display_name": "Python 3",
   "language": "python",
   "name": "python3"
  },
  "language_info": {
   "codemirror_mode": {
    "name": "ipython",
    "version": 3
   },
   "file_extension": ".py",
   "mimetype": "text/x-python",
   "name": "python",
   "nbconvert_exporter": "python",
   "pygments_lexer": "ipython3",
   "version": "3.7.6"
  }
 },
 "nbformat": 4,
 "nbformat_minor": 5
}
