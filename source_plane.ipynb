{
 "cells": [
  {
   "cell_type": "code",
   "execution_count": 7,
   "metadata": {},
   "outputs": [],
   "source": [
    "import os\n",
    "\n",
    "import numpy as np\n",
    "\n",
    "from matplotlib.offsetbox import AnchoredText\n",
    "import matplotlib.image as mpimg\n",
    "import matplotlib.pyplot as plt"
   ]
  },
  {
   "cell_type": "code",
   "execution_count": 8,
   "metadata": {},
   "outputs": [],
   "source": [
    "def plot():\n",
    "\n",
    "    '''\n",
    "    Makes a four panel figure of the source plane reconstruction of the Sunburst Arc with the ray-traced, non-LyC-leaking apertures overlaid.\n",
    "    '''\n",
    "\n",
    "    # Establish common directories\n",
    "    home = os.getcwd()\n",
    "    figs = f'{home}/figs'\n",
    "\n",
    "    # Slit IDs of the non-LyC-leaking MagE apertures\n",
    "    slits = np.array(['M5', 'M4', 'M6', 'M3'], dtype=str)\n",
    "\n",
    "    # Make an array of the filepaths to the source images\n",
    "    files = np.array([f'{home}/figs/artist_impression_sunburst_source_labels_and_slilts_Riley_{slit}.png' for slit in slits], dtype=str)\n",
    "\n",
    "    # Instantiate the figure and axes\n",
    "    fig, ax = plt.subplots(2,2, figsize=(5,5), constrained_layout=True)\n",
    "\n",
    "    # For each panel\n",
    "    for i, subplot in enumerate(ax.flatten()):\n",
    "\n",
    "        # Read in the panel's source image\n",
    "        image = mpimg.imread(files[i])\n",
    "\n",
    "        # Plot a square portion of the bottom of the image\n",
    "        subplot.imshow(image[-1070:2110, 0:1072, 0:3], interpolation='none')\n",
    "\n",
    "        # Add a label of the slit identifier to the top right of each panel\n",
    "        at = AnchoredText(slits[i], loc='upper right', frameon=False, prop=dict(color='white', fontweight='bold'))\n",
    "        subplot.add_artist(at)\n",
    "\n",
    "        # Remove ticks and tick labels\n",
    "        subplot.tick_params(left=False, right=False, top=False, bottom=False,\n",
    "            labelleft=False, labelright=False, labeltop=False, labelbottom=False)\n",
    "\n",
    "    # Save the figure\n",
    "    fig.savefig(f'{figs}/source_plane_nonleaker_apertures.pdf', bbox_inches='tight')"
   ]
  },
  {
   "cell_type": "code",
   "execution_count": null,
   "metadata": {},
   "outputs": [],
   "source": [
    "plot()"
   ]
  }
 ],
 "metadata": {
  "kernelspec": {
   "display_name": "Python 3",
   "language": "python",
   "name": "python3"
  },
  "language_info": {
   "codemirror_mode": {
    "name": "ipython",
    "version": 3
   },
   "file_extension": ".py",
   "mimetype": "text/x-python",
   "name": "python",
   "nbconvert_exporter": "python",
   "pygments_lexer": "ipython3",
   "version": "3.9.5"
  }
 },
 "nbformat": 4,
 "nbformat_minor": 2
}
