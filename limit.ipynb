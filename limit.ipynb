{
 "cells": [
  {
   "cell_type": "code",
   "execution_count": 70,
   "metadata": {},
   "outputs": [],
   "source": [
    "import os\n",
    "\n",
    "import numpy as np\n",
    "\n",
    "from photutils.utils import ImageDepth\n",
    "from photutils.segmentation import SourceFinder\n",
    "\n",
    "from astropy.io import fits\n",
    "\n",
    "import matplotlib.pyplot as plt"
   ]
  },
  {
   "cell_type": "code",
   "execution_count": 71,
   "metadata": {},
   "outputs": [],
   "source": [
    "def measure():\n",
    "\n",
    "    '''\n",
    "    This function calculates the depth of the F275W observations of the Sunburst Arc\n",
    "    '''\n",
    "\n",
    "    # Establish common directories\n",
    "    home = os.getcwd()\n",
    "    data = f'{home}/data/'\n",
    "    \n",
    "    # Set the file path to the F275W observation\n",
    "    f275w_file = f'{data}/hst/V5.0_PSZ1G311.65-18.48_F275W_0.03g0.6_crsc1.2_0.7crsn3.5_3.0_drc_sci.fits'\n",
    "\n",
    "    # Get the inverse sensitivity of the image from the FITS header of the file\n",
    "    inverse_sensitivity = fits.getheader(f275w_file)['PHOTFLAM']\n",
    "\n",
    "    # Get the data array of the F275W observation for a core area of the drizzled image, where all the\n",
    "    # frames commonly overlap. We want to calculate the depth of the image from this portion of the image\n",
    "    # because this is where the Sunburst Arc also lies, so it is the best representation of the depth\n",
    "    # achieved on the Sunburst Arc\n",
    "    f275w = fits.getdata(f275w_file)[3500:5000, 3500:5500]\n",
    "\n",
    "    # Convert the data from counts/s to erg/s/cm^2/Å\n",
    "    f275w = f275w * inverse_sensitivity\n",
    "\n",
    "    # Convert the data to a frequency-space flux density (erg/s/cm^2/Hz) based on the pivot wavelength of\n",
    "    # the WFC3/UVIS F275W filter\n",
    "    f275w = f275w * 2709.7**2 / (3e8 * 1e10)\n",
    "\n",
    "    # Create a mask representing the location of any NaNs in the image\n",
    "    nan_mask = np.isnan(f275w)\n",
    "\n",
    "    # Create a mask of the sources in the image\n",
    "    finder = SourceFinder(npixels=9, progress_bar=False)\n",
    "    mask = finder(np.where(nan_mask, 0, f275w), abs(np.nanmedian(f275w))).make_source_mask()\n",
    "\n",
    "    # Determine the depth of the image at a significance of 5σ, using AB magnitudes\n",
    "    depth = ImageDepth(4., nsigma=5., mask_pad=4., napers=100, niters=1000, seed=123, zeropoint=-48.6, progress_bar=False)\n",
    "    limits = depth(f275w, (nan_mask | mask))\n",
    "\n",
    "    print(limits)"
   ]
  },
  {
   "cell_type": "code",
   "execution_count": 72,
   "metadata": {},
   "outputs": [
    {
     "name": "stdout",
     "output_type": "stream",
     "text": [
      "(2.042339460023522e-31, 28.12468017893024)\n"
     ]
    }
   ],
   "source": [
    "measure()"
   ]
  }
 ],
 "metadata": {
  "kernelspec": {
   "display_name": ".VENV",
   "language": "python",
   "name": "python3"
  },
  "language_info": {
   "codemirror_mode": {
    "name": "ipython",
    "version": 3
   },
   "file_extension": ".py",
   "mimetype": "text/x-python",
   "name": "python",
   "nbconvert_exporter": "python",
   "pygments_lexer": "ipython3",
   "version": "3.12.2"
  }
 },
 "nbformat": 4,
 "nbformat_minor": 2
}
