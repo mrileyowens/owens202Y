{
 "cells": [
  {
   "cell_type": "code",
   "execution_count": 2,
   "metadata": {},
   "outputs": [],
   "source": [
    "import os\n",
    "\n",
    "from photutils.utils import ImageDepth\n",
    "from photutils.segmentation import SourceFinder\n",
    "\n",
    "from astropy.io import fits"
   ]
  },
  {
   "cell_type": "code",
   "execution_count": null,
   "metadata": {},
   "outputs": [],
   "source": [
    "def measure():\n",
    "\n",
    "    home = os.getcwd()\n",
    "    data = f'{home}/data/'\n",
    "    \n",
    "    f275w_file = f'{data}/V5.0_PSZ1G311.65-18.48_F275W_0.03g0.6_crsc1.2_0.7crsn3.5_3.0_drc_sci.fits'\n",
    "\n",
    "    f275w_header = fits.getheader(f275w_file)\n",
    "\n",
    "    inverse_sensitivity = f275w_header['PHOTFLAM']\n",
    "\n",
    "    f275w = fits.getdata(f275w_file)\n",
    "\n",
    "    f275w = f275w * inverse_sensitivity\n",
    "\n",
    "    f275w = f275w * 2709.7**2 / (3e8 * 1e10)\n",
    "\n",
    "    depth = ImageDepth(4., nsigma=5., mask_pad=4., napers=10, niters=1, seed=123, zeropoint=-48.6, progress_bar=False)\n",
    "\n",
    "    "
   ]
  }
 ],
 "metadata": {
  "kernelspec": {
   "display_name": ".VENV",
   "language": "python",
   "name": "python3"
  },
  "language_info": {
   "codemirror_mode": {
    "name": "ipython",
    "version": 3
   },
   "file_extension": ".py",
   "mimetype": "text/x-python",
   "name": "python",
   "nbconvert_exporter": "python",
   "pygments_lexer": "ipython3",
   "version": "3.12.2"
  }
 },
 "nbformat": 4,
 "nbformat_minor": 2
}
