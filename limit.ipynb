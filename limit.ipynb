{
 "cells": [
  {
   "cell_type": "code",
   "execution_count": 12,
   "metadata": {},
   "outputs": [],
   "source": [
    "import os\n",
    "\n",
    "import numpy as np\n",
    "\n",
    "from photutils.utils import ImageDepth\n",
    "from photutils.segmentation import SourceFinder\n",
    "\n",
    "from astropy.io import fits\n",
    "from astropy.stats import SigmaClip\n",
    "\n",
    "import matplotlib.pyplot as plt"
   ]
  },
  {
   "cell_type": "code",
   "execution_count": 13,
   "metadata": {},
   "outputs": [],
   "source": [
    "def measure():\n",
    "\n",
    "    '''\n",
    "    This function calculates the depth of the F275W observations of the Sunburst Arc\n",
    "    '''\n",
    "\n",
    "    # Establish common directories\n",
    "    home = os.getcwd()\n",
    "    data = f'{home}/data'\n",
    "    results = f'{home}/results'\n",
    "    \n",
    "    # Set the file path to the F275W observation\n",
    "    f275w_file = f'{data}/hst/V5.0_PSZ1G311.65-18.48_F275W_0.03g0.6_crsc1.2_0.7crsn3.5_3.0_drc_sci.fits'\n",
    "\n",
    "    # Get the inverse sensitivity of the image from the FITS header of the file\n",
    "    inverse_sensitivity = fits.getheader(f275w_file)['PHOTFLAM']\n",
    "\n",
    "    # Get the data array of the F275W observation for a core area of the drizzled image, where all the\n",
    "    # frames commonly overlap. We want to calculate the depth of the image from this portion of the image\n",
    "    # because this is where the Sunburst Arc also lies, so it is the best representation of the depth\n",
    "    # achieved on the Sunburst Arc\n",
    "    f275w = fits.getdata(f275w_file)[3500:5000, 3500:5500]\n",
    "\n",
    "    # Convert the data from counts/s to erg/s/cm^2/Å\n",
    "    f275w = f275w * inverse_sensitivity\n",
    "\n",
    "    # Convert the data to a frequency-space flux density (erg/s/cm^2/Hz) based on the pivot wavelength of\n",
    "    # the WFC3/UVIS F275W filter\n",
    "    f275w = f275w * 2709.7**2 / (3e8 * 1e10)\n",
    "\n",
    "    # Create a mask representing the location of any NaNs in the image\n",
    "    nan_mask = np.isnan(f275w)\n",
    "\n",
    "    # Create a mask of the sources in the image\n",
    "    finder = SourceFinder(npixels=9, progress_bar=False)\n",
    "    mask = finder(np.where(nan_mask, 0, f275w), abs(np.nanmedian(f275w))).make_source_mask()\n",
    "\n",
    "    #for i in range(1,11):\n",
    "    # Determine the depth of the image at a significance of 5σ, using AB magnitudes. Use apertures with radius corresponding\n",
    "    # to the approximate FWHM of the image PSF. Since the apertures use the summed flux densities within the aperture rather\n",
    "    # than the average or typical flux density, there is a strong dependence between the estimated depth of the image and the\n",
    "    # size of the apertures. I think it is most appropriate to set the aperture size to the effective size of an idealized \n",
    "    # point source in the image to represent the faintest point source the image could detect\n",
    "    depth = ImageDepth(1.25, nsigma=5., mask_pad=2., napers=1000, niters=1000, seed=0, zeropoint=-48.6, progress_bar=False)\n",
    "    limits = depth(f275w, (nan_mask | mask))\n",
    "\n",
    "    #np.savetxt(f'{results}/flux_limit_measurements.txt', np.stack(depth.fluxes), delimiter=' ', header=' ', comments='#', encoding='utf-8')"
   ]
  },
  {
   "cell_type": "code",
   "execution_count": 14,
   "metadata": {},
   "outputs": [],
   "source": [
    "measure()"
   ]
  }
 ],
 "metadata": {
  "kernelspec": {
   "display_name": ".VENV",
   "language": "python",
   "name": "python3"
  },
  "language_info": {
   "codemirror_mode": {
    "name": "ipython",
    "version": 3
   },
   "file_extension": ".py",
   "mimetype": "text/x-python",
   "name": "python",
   "nbconvert_exporter": "python",
   "pygments_lexer": "ipython3",
   "version": "3.12.2"
  }
 },
 "nbformat": 4,
 "nbformat_minor": 2
}
