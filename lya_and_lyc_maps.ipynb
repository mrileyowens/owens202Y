{
 "cells": [
  {
   "cell_type": "code",
   "execution_count": 45,
   "metadata": {},
   "outputs": [],
   "source": [
    "import os\n",
    "\n",
    "import numpy as np\n",
    "\n",
    "from reproject import reproject_interp\n",
    "\n",
    "from astropy.io import fits\n",
    "from astropy.wcs import WCS\n",
    "from astropy.coordinates import Angle\n",
    "\n",
    "import matplotlib.pyplot as plt\n",
    "from matplotlib.colors import LogNorm"
   ]
  },
  {
   "cell_type": "code",
   "execution_count": 46,
   "metadata": {},
   "outputs": [],
   "source": [
    "def plot():\n",
    "\n",
    "    def rotate_wcs(wcs, angle):\n",
    "\n",
    "        '''\n",
    "        Rotates a WCS projection by some angle\n",
    "\n",
    "        Parameters:\n",
    "\n",
    "            wcs : astropy.wcs.wcs.WCS\n",
    "                The original WCS projection\n",
    "\n",
    "            angle : int\n",
    "                The angle (in degrees) to rotate the WCS projection\n",
    "\n",
    "        Returns:\n",
    "\n",
    "            rotated_wcs : astropy.wcs.wcs.WCS\n",
    "                The rotated WCS projection\n",
    "        '''\n",
    "\n",
    "        # Define the rotation angle\n",
    "        angle = Angle(angle, unit='deg')\n",
    "\n",
    "        # Get the CD matrix from the original WCS projection\n",
    "        cd_matrix = wcs.wcs.cd\n",
    "\n",
    "        # Calculate the rotation matrix\n",
    "        cos_angle = np.cos(angle.rad)\n",
    "        sin_angle = np.sin(angle.rad)\n",
    "        rotation_matrix = np.array([[cos_angle, -sin_angle], [sin_angle, cos_angle]], dtype=np.float64)\n",
    "\n",
    "        # Apply the rotation to the CD matrix\n",
    "        rotated_cd_matrix = np.dot(cd_matrix, rotation_matrix)\n",
    "\n",
    "        # Update the CD matrix in the rotated WCS projection\n",
    "        rotated_wcs = wcs.deepcopy()\n",
    "        rotated_wcs.wcs.cd = rotated_cd_matrix\n",
    "\n",
    "        return rotated_wcs\n",
    "\n",
    "    home = os.getcwd()\n",
    "    data = f'{home}/data'\n",
    "    figs = f'{home}/figs'\n",
    "    results = f'{home}/results'\n",
    "\n",
    "    hst_f275w_file = f'{data}/hst/V5.0_PSZ1G311.65-18.48_F275W_0.03g0.6_crsc1.2_0.7crsn3.5_3.0_drc_sci.fits'\n",
    "    hst_f606w_file = f'{data}/hst/V5.0_PSZ1G311.65-18.48_F606W_0.03g0.6_crsc1.2_0.7crsn3.5_3.0_drc_sci.fits'\n",
    "    lya_nb_f390w_file = f'{results}/Lya_cont_sub_F390W.fits'\n",
    "    lya_nb_f555w_file = f'{results}/Lya_cont_sub_F555W.fits'\n",
    "\n",
    "    files = np.array([lya_nb_f555w_file, lya_nb_f390w_file, hst_f275w_file], dtype=str)\n",
    "\n",
    "    # Position, dimensions, and orientations of the boxes defining the areas of the inset, zoom-in axes, \n",
    "    # defined in pixel coordinates of the HST F606W observation's WCS projection\n",
    "    center_n = (4591, 5303)\n",
    "    center_nw = (5093, 4944)\n",
    "    width, height = 464, 86\n",
    "    angle_n = -19 \n",
    "    angle_nw = -48 \n",
    "\n",
    "    centers = [center_n, center_nw]\n",
    "    angles = [-19, -48]\n",
    "\n",
    "    # Get the WCS projection of the HST F606W observations\n",
    "    hst_f606w_wcs = WCS(fits.getheader(hst_f606w_file))\n",
    "\n",
    "    fig, ax = plt.subplots(6,1)\n",
    "\n",
    "    for i, file in enumerate(files):\n",
    "\n",
    "        data = fits.getdata(file)\n",
    "\n",
    "        wcs = WCS(fits.getheader(file))\n",
    "\n",
    "        for j, axes in enumerate([ax[0 + i], ax[3 + i]]):\n",
    "\n",
    "            wcs_rotated = rotate_wcs(wcs, angles[j])\n",
    "\n",
    "            data, _ = reproject_interp((data, wcs), wcs_rotated, (5500,5500))\n",
    "\n",
    "            axes = plt.subplot(611 + 3 * j + i, projection=wcs_rotated)\n",
    "\n",
    "            axes.imshow(data, origin='lower', cmap='Greys', #norm=LogNorm(vmin=0.001 * np.median(np.abs(data)), vmax=10 * np.median(np.abs(data))),\n",
    "                interpolation='none')\n",
    "\n",
    "            center = wcs_rotated.world_to_pixel_values([hst_f606w_wcs.pixel_to_world_values([[*centers[j]]])[0]])[0]\n",
    "\n",
    "            axes.set_xlim(center[0] - width/2, center[0] + width/2)\n",
    "            axes.set_ylim(center[1] - height/2, center[1] + height/2)\n",
    "\n",
    "            for k, coord_ax in enumerate([*axes.coords]):\n",
    "\n",
    "                # Disable the ticks, tick labels, and axis label of the cordinate axis\n",
    "                coord_ax.set_ticks_visible(False)\n",
    "                coord_ax.set_ticklabel_visible(False)\n",
    "                coord_ax.set_axislabel('')\n",
    "\n",
    "    fig.savefig(f'{figs}/lya_and_lyc_maps.pdf', bbox_inches='tight')"
   ]
  },
  {
   "cell_type": "code",
   "execution_count": 47,
   "metadata": {},
   "outputs": [
    {
     "name": "stderr",
     "output_type": "stream",
     "text": [
      "C:\\Users\\15136\\AppData\\Local\\Temp/ipykernel_17428/1283696385.py:82: MatplotlibDeprecationWarning: Auto-removal of overlapping axes is deprecated since 3.6 and will be removed two minor releases later; explicitly call ax.remove() as needed.\n",
      "  axes = plt.subplot(611 + 3 * j + i, projection=wcs_rotated)\n",
      "C:\\Users\\15136\\AppData\\Local\\Temp/ipykernel_17428/1283696385.py:82: MatplotlibDeprecationWarning: Auto-removal of overlapping axes is deprecated since 3.6 and will be removed two minor releases later; explicitly call ax.remove() as needed.\n",
      "  axes = plt.subplot(611 + 3 * j + i, projection=wcs_rotated)\n",
      "C:\\Users\\15136\\AppData\\Local\\Temp/ipykernel_17428/1283696385.py:82: MatplotlibDeprecationWarning: Auto-removal of overlapping axes is deprecated since 3.6 and will be removed two minor releases later; explicitly call ax.remove() as needed.\n",
      "  axes = plt.subplot(611 + 3 * j + i, projection=wcs_rotated)\n",
      "C:\\Users\\15136\\AppData\\Local\\Temp/ipykernel_17428/1283696385.py:82: MatplotlibDeprecationWarning: Auto-removal of overlapping axes is deprecated since 3.6 and will be removed two minor releases later; explicitly call ax.remove() as needed.\n",
      "  axes = plt.subplot(611 + 3 * j + i, projection=wcs_rotated)\n",
      "C:\\Users\\15136\\AppData\\Local\\Temp/ipykernel_17428/1283696385.py:82: MatplotlibDeprecationWarning: Auto-removal of overlapping axes is deprecated since 3.6 and will be removed two minor releases later; explicitly call ax.remove() as needed.\n",
      "  axes = plt.subplot(611 + 3 * j + i, projection=wcs_rotated)\n",
      "C:\\Users\\15136\\AppData\\Local\\Temp/ipykernel_17428/1283696385.py:82: MatplotlibDeprecationWarning: Auto-removal of overlapping axes is deprecated since 3.6 and will be removed two minor releases later; explicitly call ax.remove() as needed.\n",
      "  axes = plt.subplot(611 + 3 * j + i, projection=wcs_rotated)\n"
     ]
    },
    {
     "data": {
      "image/png": "[encoded data removed]",
      "text/plain": [
       "<Figure size 432x288 with 6 Axes>"
      ]
     },
     "metadata": {
      "needs_background": "light"
     },
     "output_type": "display_data"
    }
   ],
   "source": [
    "plot()"
   ]
  }
 ],
 "metadata": {
  "kernelspec": {
   "display_name": "Python 3",
   "language": "python",
   "name": "python3"
  },
  "language_info": {
   "codemirror_mode": {
    "name": "ipython",
    "version": 3
   },
   "file_extension": ".py",
   "mimetype": "text/x-python",
   "name": "python",
   "nbconvert_exporter": "python",
   "pygments_lexer": "ipython3",
   "version": "3.9.5"
  }
 },
 "nbformat": 4,
 "nbformat_minor": 2
}
